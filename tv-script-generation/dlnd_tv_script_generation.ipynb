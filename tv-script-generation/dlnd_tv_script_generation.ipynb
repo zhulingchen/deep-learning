{
 "cells": [
  {
   "cell_type": "markdown",
   "metadata": {},
   "source": [
    "# TV Script Generation\n",
    "In this project, you'll generate your own [Simpsons](https://en.wikipedia.org/wiki/The_Simpsons) TV scripts using RNNs.  You'll be using part of the [Simpsons dataset](https://www.kaggle.com/wcukierski/the-simpsons-by-the-data) of scripts from 27 seasons.  The Neural Network you'll build will generate a new TV script for a scene at [Moe's Tavern](https://simpsonswiki.com/wiki/Moe's_Tavern).\n",
    "## Get the Data\n",
    "The data is already provided for you.  You'll be using a subset of the original dataset.  It consists of only the scenes in Moe's Tavern.  This doesn't include other versions of the tavern, like \"Moe's Cavern\", \"Flaming Moe's\", \"Uncle Moe's Family Feed-Bag\", etc.."
   ]
  },
  {
   "cell_type": "code",
   "execution_count": 1,
   "metadata": {},
   "outputs": [],
   "source": [
    "\"\"\"\n",
    "DON'T MODIFY ANYTHING IN THIS CELL\n",
    "\"\"\"\n",
    "import helper\n",
    "\n",
    "data_dir = './data/simpsons/moes_tavern_lines.txt'\n",
    "text = helper.load_data(data_dir)\n",
    "# Ignore notice, since we don't use it for analysing the data\n",
    "text = text[81:]"
   ]
  },
  {
   "cell_type": "code",
   "execution_count": 2,
   "metadata": {},
   "outputs": [
    {
     "name": "stdout",
     "output_type": "stream",
     "text": [
      "First 100 characters in text: \n",
      "Moe_Szyslak: (INTO PHONE) Moe's Tavern. Where the elite meet to drink.\n",
      "Bart_Simpson: Eh, yeah, hell\n",
      "First 10 words in text after splitting: ['Moe_Szyslak:', '(INTO', 'PHONE)', \"Moe's\", 'Tavern.', 'Where', 'the', 'elite', 'meet', 'to']\n",
      "Number of unique characters in text: 90\n",
      "['\\n', ' ', '!', '\"', '#', '$', '%', '&', \"'\", '(', ')', ',', '-', '.', '/', '0', '1', '2', '3', '4', '5', '6', '7', '8', '9', ':', ';', '?', 'A', 'B', 'C', 'D', 'E', 'F', 'G', 'H', 'I', 'J', 'K', 'L', 'M', 'N', 'O', 'P', 'Q', 'R', 'S', 'T', 'U', 'V', 'W', 'X', 'Y', 'Z', '_', 'a', 'b', 'c', 'd', 'e', 'f', 'g', 'h', 'i', 'j', 'k', 'l', 'm', 'n', 'o', 'p', 'q', 'r', 's', 't', 'u', 'v', 'w', 'x', 'y', 'z', '\\xa0', '£', '¤', '¨', '©', '³', '¼', 'Ã', '€']\n",
      "Number of unique words in text (before pre-processing): 11492\n"
     ]
    }
   ],
   "source": [
    "# test by Lingchen Zhu\n",
    "print(\"First 100 characters in text: {}\".format(text[0:100]))\n",
    "words = text.split()\n",
    "print(\"First 10 words in text after splitting: {}\".format(words[0:10]))\n",
    "charset = sorted(set(text))  # set up an ordered set of unique characters in text\n",
    "print(\"Number of unique characters in text: {}\".format(len(charset)))\n",
    "print(charset)\n",
    "vocab = sorted(set(words))\n",
    "print(\"Number of unique words in text (before pre-processing): {}\".format(len(vocab)))"
   ]
  },
  {
   "cell_type": "markdown",
   "metadata": {},
   "source": [
    "## Explore the Data\n",
    "Play around with `view_sentence_range` to view different parts of the data."
   ]
  },
  {
   "cell_type": "code",
   "execution_count": 3,
   "metadata": {},
   "outputs": [
    {
     "name": "stdout",
     "output_type": "stream",
     "text": [
      "Dataset Stats\n",
      "Roughly the number of unique words: 11492\n",
      "Number of scenes: 262\n",
      "Average number of sentences in each scene: 15.251908396946565\n",
      "Number of lines: 4258\n",
      "Average number of words in each line: 11.50164396430249\n",
      "\n",
      "The sentences 0 to 10:\n",
      "\n",
      "Moe_Szyslak: (INTO PHONE) Moe's Tavern. Where the elite meet to drink.\n",
      "Bart_Simpson: Eh, yeah, hello, is Mike there? Last name, Rotch.\n",
      "Moe_Szyslak: (INTO PHONE) Hold on, I'll check. (TO BARFLIES) Mike Rotch. Mike Rotch. Hey, has anybody seen Mike Rotch, lately?\n",
      "Moe_Szyslak: (INTO PHONE) Listen you little puke. One of these days I'm gonna catch you, and I'm gonna carve my name on your back with an ice pick.\n",
      "Moe_Szyslak: What's the matter Homer? You're not your normal effervescent self.\n",
      "Homer_Simpson: I got my problems, Moe. Give me another one.\n",
      "Moe_Szyslak: Homer, hey, you should not drink to forget your problems.\n",
      "Barney_Gumble: Yeah, you should only drink to enhance your social skills.\n",
      "\n"
     ]
    }
   ],
   "source": [
    "view_sentence_range = (0, 10)\n",
    "\n",
    "\"\"\"\n",
    "DON'T MODIFY ANYTHING IN THIS CELL\n",
    "\"\"\"\n",
    "import numpy as np\n",
    "\n",
    "print('Dataset Stats')\n",
    "print('Roughly the number of unique words: {}'.format(len({word: None for word in text.split()})))\n",
    "scenes = text.split('\\n\\n')\n",
    "print('Number of scenes: {}'.format(len(scenes)))\n",
    "sentence_count_scene = [scene.count('\\n') for scene in scenes]\n",
    "print('Average number of sentences in each scene: {}'.format(np.average(sentence_count_scene)))\n",
    "\n",
    "sentences = [sentence for scene in scenes for sentence in scene.split('\\n')]\n",
    "print('Number of lines: {}'.format(len(sentences)))\n",
    "word_count_sentence = [len(sentence.split()) for sentence in sentences]\n",
    "print('Average number of words in each line: {}'.format(np.average(word_count_sentence)))\n",
    "\n",
    "print()\n",
    "print('The sentences {} to {}:'.format(*view_sentence_range))\n",
    "print('\\n'.join(text.split('\\n')[view_sentence_range[0]:view_sentence_range[1]]))"
   ]
  },
  {
   "cell_type": "markdown",
   "metadata": {},
   "source": [
    "## Implement Preprocessing Functions\n",
    "The first thing to do to any dataset is preprocessing.  Implement the following preprocessing functions below:\n",
    "- Lookup Table\n",
    "- Tokenize Punctuation\n",
    "\n",
    "### Lookup Table\n",
    "To create a word embedding, you first need to transform the words to ids.  In this function, create two dictionaries:\n",
    "- Dictionary to go from the words to an id, we'll call `vocab_to_int`\n",
    "- Dictionary to go from the id to word, we'll call `int_to_vocab`\n",
    "\n",
    "Return these dictionaries in the following tuple `(vocab_to_int, int_to_vocab)`"
   ]
  },
  {
   "cell_type": "code",
   "execution_count": 4,
   "metadata": {},
   "outputs": [
    {
     "name": "stderr",
     "output_type": "stream",
     "text": [
      "C:\\ProgramData\\Anaconda2\\envs\\python3\\lib\\site-packages\\h5py\\__init__.py:36: FutureWarning: Conversion of the second argument of issubdtype from `float` to `np.floating` is deprecated. In future, it will be treated as `np.float64 == np.dtype(float).type`.\n",
      "  from ._conv import register_converters as _register_converters\n"
     ]
    },
    {
     "name": "stdout",
     "output_type": "stream",
     "text": [
      "Tests Passed\n"
     ]
    }
   ],
   "source": [
    "import numpy as np\n",
    "import problem_unittests as tests\n",
    "\n",
    "def create_lookup_tables(text):\n",
    "    \"\"\"\n",
    "    Create lookup tables for vocabulary\n",
    "    :param text: The text of tv scripts split into words\n",
    "    :return: A tuple of dicts (vocab_to_int, int_to_vocab)\n",
    "    \"\"\"\n",
    "    # TODO: Implement Function\n",
    "    vocab = sorted(set(text))  # set up an ordered set of unique elements in text\n",
    "    int_to_vocab = dict(enumerate(vocab))  # set up a dictionary with int keys and char values\n",
    "    vocab_to_int = {c: i for i, c in enumerate(vocab)}  # set up a dictionary with char keys and int values\n",
    "    \n",
    "    return vocab_to_int, int_to_vocab\n",
    "\n",
    "\n",
    "\"\"\"\n",
    "DON'T MODIFY ANYTHING IN THIS CELL THAT IS BELOW THIS LINE\n",
    "\"\"\"\n",
    "tests.test_create_lookup_tables(create_lookup_tables)"
   ]
  },
  {
   "cell_type": "markdown",
   "metadata": {},
   "source": [
    "### Tokenize Punctuation\n",
    "We'll be splitting the script into a word array using spaces as delimiters.  However, punctuations like periods and exclamation marks make it hard for the neural network to distinguish between the word \"bye\" and \"bye!\".\n",
    "\n",
    "Implement the function `token_lookup` to return a dict that will be used to tokenize symbols like \"!\" into \"||Exclamation_Mark||\".  Create a dictionary for the following symbols where the symbol is the key and value is the token:\n",
    "- Period ( . )\n",
    "- Comma ( , )\n",
    "- Quotation Mark ( \" )\n",
    "- Semicolon ( ; )\n",
    "- Exclamation mark ( ! )\n",
    "- Question mark ( ? )\n",
    "- Left Parentheses ( ( )\n",
    "- Right Parentheses ( ) )\n",
    "- Dash ( -- )\n",
    "- Return ( \\n )\n",
    "\n",
    "This dictionary will be used to token the symbols and add the delimiter (space) around it.  This separates the symbols as it's own word, making it easier for the neural network to predict on the next word. Make sure you don't use a token that could be confused as a word. Instead of using the token \"dash\", try using something like \"||dash||\"."
   ]
  },
  {
   "cell_type": "code",
   "execution_count": 5,
   "metadata": {},
   "outputs": [
    {
     "name": "stdout",
     "output_type": "stream",
     "text": [
      "Tests Passed\n"
     ]
    }
   ],
   "source": [
    "def token_lookup():\n",
    "    \"\"\"\n",
    "    Generate a dict to turn punctuation into a token.\n",
    "    :return: Tokenize dictionary where the key is the punctuation and the value is the token\n",
    "    \"\"\"\n",
    "    # TODO: Implement Function\n",
    "    token_dict = {'.' : \"||period||\",\n",
    "                  ',' : \"||comma||\",\n",
    "                  '\"' : \"||quotation_mark||\",\n",
    "                  ';' : \"||semicolon||\",\n",
    "                  '!' : \"||exclamation_mark||\",\n",
    "                  '?' : \"||question_mark||\",\n",
    "                  '(' : \"||left_parentheses||\",\n",
    "                  ')' : \"||right_parentheses||\",\n",
    "                  '--' : \"||dash||\",\n",
    "                  '\\n': \"||return||\"}\n",
    "    return token_dict\n",
    "\n",
    "\"\"\"\n",
    "DON'T MODIFY ANYTHING IN THIS CELL THAT IS BELOW THIS LINE\n",
    "\"\"\"\n",
    "tests.test_tokenize(token_lookup)"
   ]
  },
  {
   "cell_type": "markdown",
   "metadata": {},
   "source": [
    "## Preprocess all the data and save it\n",
    "Running the code cell below will preprocess all the data and save it to file."
   ]
  },
  {
   "cell_type": "code",
   "execution_count": 6,
   "metadata": {},
   "outputs": [],
   "source": [
    "\"\"\"\n",
    "DON'T MODIFY ANYTHING IN THIS CELL\n",
    "\"\"\"\n",
    "# Preprocess Training, Validation, and Testing Data\n",
    "# load text, split text into words, set up vocabulary <-> int lookup tables and save data\n",
    "helper.preprocess_and_save_data(data_dir, token_lookup, create_lookup_tables)"
   ]
  },
  {
   "cell_type": "markdown",
   "metadata": {},
   "source": [
    "# Check Point\n",
    "This is your first checkpoint. If you ever decide to come back to this notebook or have to restart the notebook, you can start from here. The preprocessed data has been saved to disk."
   ]
  },
  {
   "cell_type": "code",
   "execution_count": 7,
   "metadata": {},
   "outputs": [],
   "source": [
    "\"\"\"\n",
    "DON'T MODIFY ANYTHING IN THIS CELL\n",
    "\"\"\"\n",
    "import helper\n",
    "import numpy as np\n",
    "import problem_unittests as tests\n",
    "\n",
    "int_text, vocab_to_int, int_to_vocab, token_dict = helper.load_preprocess()"
   ]
  },
  {
   "cell_type": "code",
   "execution_count": 8,
   "metadata": {},
   "outputs": [
    {
     "name": "stdout",
     "output_type": "stream",
     "text": [
      "Number of total words in the vocabulary (after-preprocessing): 69101\n",
      "Number of unique words in the vocabulary (after pre-processing): 6780\n"
     ]
    }
   ],
   "source": [
    "# test by Lingchen Zhu\n",
    "print(\"Number of total words in the vocabulary (after-preprocessing): {}\".format(len(int_text)))\n",
    "print(\"Number of unique words in the vocabulary (after pre-processing): {}\".format(len(vocab_to_int)))"
   ]
  },
  {
   "cell_type": "markdown",
   "metadata": {},
   "source": [
    "## Build the Neural Network\n",
    "You'll build the components necessary to build a RNN by implementing the following functions below:\n",
    "- get_inputs\n",
    "- get_init_cell\n",
    "- get_embed\n",
    "- build_rnn\n",
    "- build_nn\n",
    "- get_batches\n",
    "\n",
    "### Check the Version of TensorFlow and Access to GPU"
   ]
  },
  {
   "cell_type": "code",
   "execution_count": 9,
   "metadata": {},
   "outputs": [
    {
     "name": "stdout",
     "output_type": "stream",
     "text": [
      "TensorFlow Version: 1.4.0\n",
      "Default GPU Device: /device:GPU:0\n"
     ]
    }
   ],
   "source": [
    "\"\"\"\n",
    "DON'T MODIFY ANYTHING IN THIS CELL\n",
    "\"\"\"\n",
    "from distutils.version import LooseVersion\n",
    "import warnings\n",
    "import tensorflow as tf\n",
    "\n",
    "# Check TensorFlow Version\n",
    "assert LooseVersion(tf.__version__) >= LooseVersion('1.3'), 'Please use TensorFlow version 1.3 or newer'\n",
    "print('TensorFlow Version: {}'.format(tf.__version__))\n",
    "\n",
    "# Check for a GPU\n",
    "if not tf.test.gpu_device_name():\n",
    "    warnings.warn('No GPU found. Please use a GPU to train your neural network.')\n",
    "else:\n",
    "    print('Default GPU Device: {}'.format(tf.test.gpu_device_name()))"
   ]
  },
  {
   "cell_type": "markdown",
   "metadata": {},
   "source": [
    "### Input\n",
    "Implement the `get_inputs()` function to create TF Placeholders for the Neural Network.  It should create the following placeholders:\n",
    "- Input text placeholder named \"input\" using the [TF Placeholder](https://www.tensorflow.org/api_docs/python/tf/placeholder) `name` parameter.\n",
    "- Targets placeholder\n",
    "- Learning Rate placeholder\n",
    "\n",
    "Return the placeholders in the following tuple `(Input, Targets, LearningRate)`"
   ]
  },
  {
   "cell_type": "code",
   "execution_count": 10,
   "metadata": {},
   "outputs": [
    {
     "name": "stdout",
     "output_type": "stream",
     "text": [
      "Tests Passed\n"
     ]
    }
   ],
   "source": [
    "def get_inputs():\n",
    "    \"\"\"\n",
    "    Create TF Placeholders for input, targets, and learning rate.\n",
    "    :return: Tuple (input, targets, learning rate)\n",
    "    \"\"\"\n",
    "    # TODO: Implement Function\n",
    "    Input = tf.placeholder(tf.int32, [None, None], name='input')\n",
    "    Targets = tf.placeholder(tf.int32, [None, None], name='targets')\n",
    "    LearningRate = tf.placeholder(tf.float32, name='learning_rate')\n",
    "    return Input, Targets, LearningRate\n",
    "\n",
    "\n",
    "\"\"\"\n",
    "DON'T MODIFY ANYTHING IN THIS CELL THAT IS BELOW THIS LINE\n",
    "\"\"\"\n",
    "tests.test_get_inputs(get_inputs)"
   ]
  },
  {
   "cell_type": "markdown",
   "metadata": {},
   "source": [
    "### Build RNN Cell and Initialize\n",
    "Stack one or more [`BasicLSTMCells`](https://www.tensorflow.org/api_docs/python/tf/contrib/rnn/BasicLSTMCell) in a [`MultiRNNCell`](https://www.tensorflow.org/api_docs/python/tf/contrib/rnn/MultiRNNCell).\n",
    "- The Rnn size should be set using `rnn_size`\n",
    "- Initalize Cell State using the MultiRNNCell's [`zero_state()`](https://www.tensorflow.org/api_docs/python/tf/contrib/rnn/MultiRNNCell#zero_state) function\n",
    "    - Apply the name \"initial_state\" to the initial state using [`tf.identity()`](https://www.tensorflow.org/api_docs/python/tf/identity)\n",
    "\n",
    "Return the cell and initial state in the following tuple `(Cell, InitialState)`"
   ]
  },
  {
   "cell_type": "code",
   "execution_count": 11,
   "metadata": {},
   "outputs": [
    {
     "name": "stdout",
     "output_type": "stream",
     "text": [
      "Tests Passed\n"
     ]
    }
   ],
   "source": [
    "def get_init_cell(batch_size, rnn_size):\n",
    "    \"\"\"\n",
    "    Create an RNN Cell and initialize it.\n",
    "    :param batch_size: Size of batches\n",
    "    :param rnn_size: Size of RNNs\n",
    "    :return: Tuple (cell, initialize state)\n",
    "    \"\"\"\n",
    "    # TODO: Implement Function\n",
    "    num_layers = 2\n",
    "    keep_prob = 0.6\n",
    "    \n",
    "    def build_single_lstm_layer(rnn_size, keep_prob):\n",
    "        lstm = tf.contrib.rnn.BasicLSTMCell(rnn_size)\n",
    "        lstm_with_dropout = tf.contrib.rnn.DropoutWrapper(lstm, output_keep_prob=keep_prob)\n",
    "        return lstm_with_dropout\n",
    "    \n",
    "    Cell = tf.contrib.rnn.MultiRNNCell([build_single_lstm_layer(rnn_size, keep_prob) for l in range(num_layers)])\n",
    "    InitialState = Cell.zero_state(batch_size, tf.float32)\n",
    "    InitialState = tf.identity(InitialState, name='initial_state')\n",
    "    return Cell, InitialState\n",
    "\n",
    "\n",
    "\"\"\"\n",
    "DON'T MODIFY ANYTHING IN THIS CELL THAT IS BELOW THIS LINE\n",
    "\"\"\"\n",
    "tests.test_get_init_cell(get_init_cell)"
   ]
  },
  {
   "cell_type": "markdown",
   "metadata": {},
   "source": [
    "### Word Embedding\n",
    "Apply embedding to `input_data` using TensorFlow.  Return the embedded sequence."
   ]
  },
  {
   "cell_type": "code",
   "execution_count": 12,
   "metadata": {},
   "outputs": [
    {
     "name": "stdout",
     "output_type": "stream",
     "text": [
      "Tests Passed\n"
     ]
    }
   ],
   "source": [
    "def get_embed(input_data, vocab_size, embed_dim):\n",
    "    \"\"\"\n",
    "    Create embedding for <input_data>.\n",
    "    :param input_data: TF placeholder for text input.\n",
    "    :param vocab_size: Number of words in vocabulary.\n",
    "    :param embed_dim: Number of embedding dimensions\n",
    "    :return: Embedded input.\n",
    "    \"\"\"\n",
    "    # TODO: Implement Function\n",
    "    embed = tf.contrib.layers.embed_sequence(input_data, vocab_size, embed_dim)\n",
    "    return embed\n",
    "\n",
    "\n",
    "\"\"\"\n",
    "DON'T MODIFY ANYTHING IN THIS CELL THAT IS BELOW THIS LINE\n",
    "\"\"\"\n",
    "tests.test_get_embed(get_embed)"
   ]
  },
  {
   "cell_type": "markdown",
   "metadata": {},
   "source": [
    "### Build RNN\n",
    "You created a RNN Cell in the `get_init_cell()` function.  Time to use the cell to create a RNN.\n",
    "- Build the RNN using the [`tf.nn.dynamic_rnn()`](https://www.tensorflow.org/api_docs/python/tf/nn/dynamic_rnn)\n",
    " - Apply the name \"final_state\" to the final state using [`tf.identity()`](https://www.tensorflow.org/api_docs/python/tf/identity)\n",
    "\n",
    "Return the outputs and final_state state in the following tuple `(Outputs, FinalState)` "
   ]
  },
  {
   "cell_type": "code",
   "execution_count": 13,
   "metadata": {},
   "outputs": [
    {
     "name": "stdout",
     "output_type": "stream",
     "text": [
      "Tests Passed\n"
     ]
    }
   ],
   "source": [
    "def build_rnn(cell, inputs):\n",
    "    \"\"\"\n",
    "    Create a RNN using a RNN Cell\n",
    "    :param cell: RNN Cell\n",
    "    :param inputs: Input text data\n",
    "    :return: Tuple (Outputs, Final State)\n",
    "    \"\"\"\n",
    "    # TODO: Implement Function\n",
    "    Outputs, FinalState = tf.nn.dynamic_rnn(cell, inputs, initial_state=None, dtype=tf.float32)\n",
    "    FinalState = tf.identity(FinalState, name='final_state')\n",
    "    return Outputs, FinalState\n",
    "\n",
    "\n",
    "\"\"\"\n",
    "DON'T MODIFY ANYTHING IN THIS CELL THAT IS BELOW THIS LINE\n",
    "\"\"\"\n",
    "tests.test_build_rnn(build_rnn)"
   ]
  },
  {
   "cell_type": "markdown",
   "metadata": {},
   "source": [
    "### Build the Neural Network\n",
    "Apply the functions you implemented above to:\n",
    "- Apply embedding to `input_data` using your `get_embed(input_data, vocab_size, embed_dim)` function.\n",
    "- Build RNN using `cell` and your `build_rnn(cell, inputs)` function.\n",
    "- Apply a fully connected layer with a linear activation and `vocab_size` as the number of outputs.\n",
    "\n",
    "Return the logits and final state in the following tuple (Logits, FinalState) "
   ]
  },
  {
   "cell_type": "code",
   "execution_count": 14,
   "metadata": {},
   "outputs": [
    {
     "name": "stdout",
     "output_type": "stream",
     "text": [
      "Tests Passed\n"
     ]
    }
   ],
   "source": [
    "def build_nn(cell, rnn_size, input_data, vocab_size, embed_dim):\n",
    "    \"\"\"\n",
    "    Build part of the neural network\n",
    "    :param cell: RNN cell\n",
    "    :param rnn_size: Size of rnns\n",
    "    :param input_data: Input data\n",
    "    :param vocab_size: Vocabulary size\n",
    "    :param embed_dim: Number of embedding dimensions\n",
    "    :return: Tuple (Logits, FinalState)\n",
    "    \"\"\"\n",
    "    # TODO: Implement Function\n",
    "    input_embed = get_embed(input_data, vocab_size, embed_dim)\n",
    "    \n",
    "    rnn_output, FinalState = build_rnn(cell, input_embed)\n",
    "    \n",
    "    Logits = tf.contrib.layers.fully_connected(rnn_output, vocab_size, activation_fn=None)\n",
    "    \n",
    "    return Logits, FinalState\n",
    "\n",
    "\n",
    "\"\"\"\n",
    "DON'T MODIFY ANYTHING IN THIS CELL THAT IS BELOW THIS LINE\n",
    "\"\"\"\n",
    "tests.test_build_nn(build_nn)"
   ]
  },
  {
   "cell_type": "markdown",
   "metadata": {},
   "source": [
    "### Batches\n",
    "Implement `get_batches` to create batches of input and targets using `int_text`.  The batches should be a Numpy array with the shape `(number of batches, 2, batch size, sequence length)`. Each batch contains two elements:\n",
    "- The first element is a single batch of **input** with the shape `[batch size, sequence length]`\n",
    "- The second element is a single batch of **targets** with the shape `[batch size, sequence length]`\n",
    "\n",
    "If you can't fill the last batch with enough data, drop the last batch.\n",
    "\n",
    "For example, `get_batches([1, 2, 3, 4, 5, 6, 7, 8, 9, 10, 11, 12, 13, 14, 15, 16, 17, 18, 19, 20], 3, 2)` would return a Numpy array of the following:\n",
    "```\n",
    "[\n",
    "  # First Batch\n",
    "  [\n",
    "    # Batch of Input\n",
    "    [[ 1  2], [ 7  8], [13 14]]\n",
    "    # Batch of targets\n",
    "    [[ 2  3], [ 8  9], [14 15]]\n",
    "  ]\n",
    "\n",
    "  # Second Batch\n",
    "  [\n",
    "    # Batch of Input\n",
    "    [[ 3  4], [ 9 10], [15 16]]\n",
    "    # Batch of targets\n",
    "    [[ 4  5], [10 11], [16 17]]\n",
    "  ]\n",
    "\n",
    "  # Third Batch\n",
    "  [\n",
    "    # Batch of Input\n",
    "    [[ 5  6], [11 12], [17 18]]\n",
    "    # Batch of targets\n",
    "    [[ 6  7], [12 13], [18  1]]\n",
    "  ]\n",
    "]\n",
    "```\n",
    "\n",
    "Notice that the last target value in the last batch is the first input value of the first batch. In this case, `1`. This is a common technique used when creating sequence batches, although it is rather unintuitive."
   ]
  },
  {
   "cell_type": "code",
   "execution_count": 15,
   "metadata": {},
   "outputs": [
    {
     "name": "stdout",
     "output_type": "stream",
     "text": [
      "Tests Passed\n"
     ]
    }
   ],
   "source": [
    "def get_batches(int_text, batch_size, seq_length):\n",
    "    \"\"\"\n",
    "    Return batches of input and target\n",
    "    :param int_text: Text with the words replaced by their ids\n",
    "    :param batch_size: The size of batch\n",
    "    :param seq_length: The length of sequence\n",
    "    :return: Batches as a Numpy array\n",
    "    \"\"\"\n",
    "    # TODO: Implement Function\n",
    "    n_word_per_batch = batch_size * seq_length  # number of words per batch\n",
    "    n_batch = len(int_text) // n_word_per_batch  # number of batches\n",
    "    int_text = int_text[:n_batch * n_word_per_batch]  # keep only enough words to make full batches\n",
    "    int_text = np.array(int_text)\n",
    "    int_text_shift = np.roll(int_text, -1)  # shift the text to left by one place\n",
    "    \n",
    "    int_text = np.reshape(int_text, (batch_size, seq_length * n_batch))\n",
    "    int_text_shift = np.reshape(int_text_shift, (batch_size, seq_length * n_batch))\n",
    "    \n",
    "    Batches = np.zeros((n_batch, 2, batch_size, seq_length))\n",
    "    idx_batch = 0\n",
    "    for col in range(0, seq_length * n_batch, seq_length):\n",
    "        inputs = int_text[:, col:col+seq_length]\n",
    "        targets = int_text_shift[:, col:col+seq_length]\n",
    "        Batches[idx_batch, :, :, :] = np.array([inputs, targets])\n",
    "        idx_batch += 1\n",
    "    \n",
    "    return Batches\n",
    "\n",
    "\n",
    "\"\"\"\n",
    "DON'T MODIFY ANYTHING IN THIS CELL THAT IS BELOW THIS LINE\n",
    "\"\"\"\n",
    "tests.test_get_batches(get_batches)"
   ]
  },
  {
   "cell_type": "code",
   "execution_count": 16,
   "metadata": {},
   "outputs": [
    {
     "name": "stdout",
     "output_type": "stream",
     "text": [
      "test_batches.shape = (3, 2, 3, 2)\n",
      "[[[[ 1.  2.]\n",
      "   [ 7.  8.]\n",
      "   [13. 14.]]\n",
      "\n",
      "  [[ 2.  3.]\n",
      "   [ 8.  9.]\n",
      "   [14. 15.]]]\n",
      "\n",
      "\n",
      " [[[ 3.  4.]\n",
      "   [ 9. 10.]\n",
      "   [15. 16.]]\n",
      "\n",
      "  [[ 4.  5.]\n",
      "   [10. 11.]\n",
      "   [16. 17.]]]\n",
      "\n",
      "\n",
      " [[[ 5.  6.]\n",
      "   [11. 12.]\n",
      "   [17. 18.]]\n",
      "\n",
      "  [[ 6.  7.]\n",
      "   [12. 13.]\n",
      "   [18.  1.]]]]\n"
     ]
    }
   ],
   "source": [
    "# test by Lingchen Zhu\n",
    "test_batches = get_batches([1, 2, 3, 4, 5, 6, 7, 8, 9, 10, 11, 12, 13, 14, 15, 16, 17, 18, 19, 20], 3, 2)\n",
    "print(\"test_batches.shape = {}\".format(test_batches.shape))\n",
    "print(test_batches)"
   ]
  },
  {
   "cell_type": "markdown",
   "metadata": {},
   "source": [
    "## Neural Network Training\n",
    "### Hyperparameters\n",
    "Tune the following parameters:\n",
    "\n",
    "- Set `num_epochs` to the number of epochs.\n",
    "- Set `batch_size` to the batch size.\n",
    "- Set `rnn_size` to the size of the RNNs.\n",
    "- Set `embed_dim` to the size of the embedding.\n",
    "- Set `seq_length` to the length of sequence.\n",
    "- Set `learning_rate` to the learning rate.\n",
    "- Set `show_every_n_batches` to the number of batches the neural network should print progress."
   ]
  },
  {
   "cell_type": "code",
   "execution_count": 17,
   "metadata": {},
   "outputs": [],
   "source": [
    "# Number of Epochs\n",
    "num_epochs = 200\n",
    "# Batch Size\n",
    "batch_size = 256\n",
    "# RNN Size\n",
    "rnn_size = 1024\n",
    "# Embedding Dimension Size\n",
    "embed_dim = 300\n",
    "# Sequence Length\n",
    "seq_length = 20\n",
    "# Learning Rate\n",
    "learning_rate = 0.005\n",
    "# Show stats for every n number of batches\n",
    "show_every_n_batches = 10\n",
    "\n",
    "\"\"\"\n",
    "DON'T MODIFY ANYTHING IN THIS CELL THAT IS BELOW THIS LINE\n",
    "\"\"\"\n",
    "save_dir = './save'"
   ]
  },
  {
   "cell_type": "markdown",
   "metadata": {},
   "source": [
    "### Build the Graph\n",
    "Build the graph using the neural network you implemented."
   ]
  },
  {
   "cell_type": "code",
   "execution_count": 18,
   "metadata": {},
   "outputs": [],
   "source": [
    "\"\"\"\n",
    "DON'T MODIFY ANYTHING IN THIS CELL\n",
    "\"\"\"\n",
    "from tensorflow.contrib import seq2seq\n",
    "\n",
    "train_graph = tf.Graph()\n",
    "with train_graph.as_default():\n",
    "    vocab_size = len(int_to_vocab)\n",
    "    input_text, targets, lr = get_inputs()\n",
    "    input_data_shape = tf.shape(input_text)\n",
    "    cell, initial_state = get_init_cell(input_data_shape[0], rnn_size)\n",
    "    logits, final_state = build_nn(cell, rnn_size, input_text, vocab_size, embed_dim)\n",
    "\n",
    "    # Probabilities for generating words\n",
    "    probs = tf.nn.softmax(logits, name='probs')\n",
    "\n",
    "    # Loss function\n",
    "    cost = seq2seq.sequence_loss(\n",
    "        logits,\n",
    "        targets,\n",
    "        tf.ones([input_data_shape[0], input_data_shape[1]]))\n",
    "\n",
    "    # Optimizer\n",
    "    optimizer = tf.train.AdamOptimizer(lr)\n",
    "\n",
    "    # Gradient Clipping\n",
    "    gradients = optimizer.compute_gradients(cost)\n",
    "    capped_gradients = [(tf.clip_by_value(grad, -1., 1.), var) for grad, var in gradients if grad is not None]\n",
    "    train_op = optimizer.apply_gradients(capped_gradients)"
   ]
  },
  {
   "cell_type": "markdown",
   "metadata": {},
   "source": [
    "## Train\n",
    "Train the neural network on the preprocessed data.  If you have a hard time getting a good loss, check the [forums](https://discussions.udacity.com/) to see if anyone is having the same problem."
   ]
  },
  {
   "cell_type": "code",
   "execution_count": 19,
   "metadata": {},
   "outputs": [
    {
     "name": "stdout",
     "output_type": "stream",
     "text": [
      "Epoch   0 Batch    0/13   train_loss = 8.822\n",
      "Epoch   0 Batch   10/13   train_loss = 7.399\n",
      "Epoch   1 Batch    7/13   train_loss = 6.475\n",
      "Epoch   2 Batch    4/13   train_loss = 6.210\n",
      "Epoch   3 Batch    1/13   train_loss = 6.149\n",
      "Epoch   3 Batch   11/13   train_loss = 6.115\n",
      "Epoch   4 Batch    8/13   train_loss = 5.904\n",
      "Epoch   5 Batch    5/13   train_loss = 5.769\n",
      "Epoch   6 Batch    2/13   train_loss = 5.610\n",
      "Epoch   6 Batch   12/13   train_loss = 5.521\n",
      "Epoch   7 Batch    9/13   train_loss = 5.322\n",
      "Epoch   8 Batch    6/13   train_loss = 5.237\n",
      "Epoch   9 Batch    3/13   train_loss = 5.093\n",
      "Epoch  10 Batch    0/13   train_loss = 4.893\n",
      "Epoch  10 Batch   10/13   train_loss = 4.835\n",
      "Epoch  11 Batch    7/13   train_loss = 4.739\n",
      "Epoch  12 Batch    4/13   train_loss = 4.578\n",
      "Epoch  13 Batch    1/13   train_loss = 4.506\n",
      "Epoch  13 Batch   11/13   train_loss = 4.415\n",
      "Epoch  14 Batch    8/13   train_loss = 4.250\n",
      "Epoch  15 Batch    5/13   train_loss = 4.243\n",
      "Epoch  16 Batch    2/13   train_loss = 4.170\n",
      "Epoch  16 Batch   12/13   train_loss = 4.115\n",
      "Epoch  17 Batch    9/13   train_loss = 3.974\n",
      "Epoch  18 Batch    6/13   train_loss = 3.983\n",
      "Epoch  19 Batch    3/13   train_loss = 3.888\n",
      "Epoch  20 Batch    0/13   train_loss = 3.709\n",
      "Epoch  20 Batch   10/13   train_loss = 3.741\n",
      "Epoch  21 Batch    7/13   train_loss = 3.679\n",
      "Epoch  22 Batch    4/13   train_loss = 3.578\n",
      "Epoch  23 Batch    1/13   train_loss = 3.519\n",
      "Epoch  23 Batch   11/13   train_loss = 3.435\n",
      "Epoch  24 Batch    8/13   train_loss = 3.322\n",
      "Epoch  25 Batch    5/13   train_loss = 3.331\n",
      "Epoch  26 Batch    2/13   train_loss = 3.307\n",
      "Epoch  26 Batch   12/13   train_loss = 3.242\n",
      "Epoch  27 Batch    9/13   train_loss = 3.086\n",
      "Epoch  28 Batch    6/13   train_loss = 3.072\n",
      "Epoch  29 Batch    3/13   train_loss = 3.032\n",
      "Epoch  30 Batch    0/13   train_loss = 2.850\n",
      "Epoch  30 Batch   10/13   train_loss = 2.918\n",
      "Epoch  31 Batch    7/13   train_loss = 2.864\n",
      "Epoch  32 Batch    4/13   train_loss = 2.813\n",
      "Epoch  33 Batch    1/13   train_loss = 2.737\n",
      "Epoch  33 Batch   11/13   train_loss = 2.716\n",
      "Epoch  34 Batch    8/13   train_loss = 2.639\n",
      "Epoch  35 Batch    5/13   train_loss = 2.705\n",
      "Epoch  36 Batch    2/13   train_loss = 2.709\n",
      "Epoch  36 Batch   12/13   train_loss = 2.709\n",
      "Epoch  37 Batch    9/13   train_loss = 2.588\n",
      "Epoch  38 Batch    6/13   train_loss = 2.538\n",
      "Epoch  39 Batch    3/13   train_loss = 2.496\n",
      "Epoch  40 Batch    0/13   train_loss = 2.317\n",
      "Epoch  40 Batch   10/13   train_loss = 2.361\n",
      "Epoch  41 Batch    7/13   train_loss = 2.300\n",
      "Epoch  42 Batch    4/13   train_loss = 2.299\n",
      "Epoch  43 Batch    1/13   train_loss = 2.250\n",
      "Epoch  43 Batch   11/13   train_loss = 2.184\n",
      "Epoch  44 Batch    8/13   train_loss = 2.112\n",
      "Epoch  45 Batch    5/13   train_loss = 2.124\n",
      "Epoch  46 Batch    2/13   train_loss = 2.222\n",
      "Epoch  46 Batch   12/13   train_loss = 2.109\n",
      "Epoch  47 Batch    9/13   train_loss = 2.048\n",
      "Epoch  48 Batch    6/13   train_loss = 2.007\n",
      "Epoch  49 Batch    3/13   train_loss = 2.087\n",
      "Epoch  50 Batch    0/13   train_loss = 1.964\n",
      "Epoch  50 Batch   10/13   train_loss = 1.979\n",
      "Epoch  51 Batch    7/13   train_loss = 1.982\n",
      "Epoch  52 Batch    4/13   train_loss = 1.963\n",
      "Epoch  53 Batch    1/13   train_loss = 1.929\n",
      "Epoch  53 Batch   11/13   train_loss = 1.813\n",
      "Epoch  54 Batch    8/13   train_loss = 1.768\n",
      "Epoch  55 Batch    5/13   train_loss = 1.770\n",
      "Epoch  56 Batch    2/13   train_loss = 1.846\n",
      "Epoch  56 Batch   12/13   train_loss = 1.729\n",
      "Epoch  57 Batch    9/13   train_loss = 1.609\n",
      "Epoch  58 Batch    6/13   train_loss = 1.645\n",
      "Epoch  59 Batch    3/13   train_loss = 1.666\n",
      "Epoch  60 Batch    0/13   train_loss = 1.556\n",
      "Epoch  60 Batch   10/13   train_loss = 1.531\n",
      "Epoch  61 Batch    7/13   train_loss = 1.564\n",
      "Epoch  62 Batch    4/13   train_loss = 1.611\n",
      "Epoch  63 Batch    1/13   train_loss = 1.562\n",
      "Epoch  63 Batch   11/13   train_loss = 1.533\n",
      "Epoch  64 Batch    8/13   train_loss = 1.516\n",
      "Epoch  65 Batch    5/13   train_loss = 1.592\n",
      "Epoch  66 Batch    2/13   train_loss = 1.625\n",
      "Epoch  66 Batch   12/13   train_loss = 1.539\n",
      "Epoch  67 Batch    9/13   train_loss = 1.417\n",
      "Epoch  68 Batch    6/13   train_loss = 1.399\n",
      "Epoch  69 Batch    3/13   train_loss = 1.427\n",
      "Epoch  70 Batch    0/13   train_loss = 1.289\n",
      "Epoch  70 Batch   10/13   train_loss = 1.258\n",
      "Epoch  71 Batch    7/13   train_loss = 1.235\n",
      "Epoch  72 Batch    4/13   train_loss = 1.265\n",
      "Epoch  73 Batch    1/13   train_loss = 1.230\n",
      "Epoch  73 Batch   11/13   train_loss = 1.188\n",
      "Epoch  74 Batch    8/13   train_loss = 1.188\n",
      "Epoch  75 Batch    5/13   train_loss = 1.196\n",
      "Epoch  76 Batch    2/13   train_loss = 1.275\n",
      "Epoch  76 Batch   12/13   train_loss = 1.184\n",
      "Epoch  77 Batch    9/13   train_loss = 1.136\n",
      "Epoch  78 Batch    6/13   train_loss = 1.297\n",
      "Epoch  79 Batch    3/13   train_loss = 1.143\n",
      "Epoch  80 Batch    0/13   train_loss = 1.267\n",
      "Epoch  80 Batch   10/13   train_loss = 1.333\n",
      "Epoch  81 Batch    7/13   train_loss = 1.120\n",
      "Epoch  82 Batch    4/13   train_loss = 1.170\n",
      "Epoch  83 Batch    1/13   train_loss = 1.126\n",
      "Epoch  83 Batch   11/13   train_loss = 1.029\n",
      "Epoch  84 Batch    8/13   train_loss = 1.046\n",
      "Epoch  85 Batch    5/13   train_loss = 0.982\n",
      "Epoch  86 Batch    2/13   train_loss = 1.072\n",
      "Epoch  86 Batch   12/13   train_loss = 0.927\n",
      "Epoch  87 Batch    9/13   train_loss = 0.915\n",
      "Epoch  88 Batch    6/13   train_loss = 0.892\n",
      "Epoch  89 Batch    3/13   train_loss = 0.941\n",
      "Epoch  90 Batch    0/13   train_loss = 0.838\n",
      "Epoch  90 Batch   10/13   train_loss = 0.841\n",
      "Epoch  91 Batch    7/13   train_loss = 0.836\n",
      "Epoch  92 Batch    4/13   train_loss = 0.892\n",
      "Epoch  93 Batch    1/13   train_loss = 0.833\n",
      "Epoch  93 Batch   11/13   train_loss = 0.789\n",
      "Epoch  94 Batch    8/13   train_loss = 0.837\n",
      "Epoch  95 Batch    5/13   train_loss = 0.796\n",
      "Epoch  96 Batch    2/13   train_loss = 0.860\n",
      "Epoch  96 Batch   12/13   train_loss = 0.791\n",
      "Epoch  97 Batch    9/13   train_loss = 0.754\n",
      "Epoch  98 Batch    6/13   train_loss = 0.769\n",
      "Epoch  99 Batch    3/13   train_loss = 0.773\n",
      "Epoch 100 Batch    0/13   train_loss = 0.746\n",
      "Epoch 100 Batch   10/13   train_loss = 0.725\n",
      "Epoch 101 Batch    7/13   train_loss = 0.779\n",
      "Epoch 102 Batch    4/13   train_loss = 0.775\n",
      "Epoch 103 Batch    1/13   train_loss = 0.780\n",
      "Epoch 103 Batch   11/13   train_loss = 0.871\n",
      "Epoch 104 Batch    8/13   train_loss = 0.801\n",
      "Epoch 105 Batch    5/13   train_loss = 0.909\n",
      "Epoch 106 Batch    2/13   train_loss = 0.962\n",
      "Epoch 106 Batch   12/13   train_loss = 0.745\n",
      "Epoch 107 Batch    9/13   train_loss = 0.756\n",
      "Epoch 108 Batch    6/13   train_loss = 0.719\n",
      "Epoch 109 Batch    3/13   train_loss = 0.704\n",
      "Epoch 110 Batch    0/13   train_loss = 0.662\n",
      "Epoch 110 Batch   10/13   train_loss = 0.640\n",
      "Epoch 111 Batch    7/13   train_loss = 0.633\n",
      "Epoch 112 Batch    4/13   train_loss = 0.699\n",
      "Epoch 113 Batch    1/13   train_loss = 0.627\n",
      "Epoch 113 Batch   11/13   train_loss = 0.660\n",
      "Epoch 114 Batch    8/13   train_loss = 0.624\n",
      "Epoch 115 Batch    5/13   train_loss = 0.636\n",
      "Epoch 116 Batch    2/13   train_loss = 0.720\n",
      "Epoch 116 Batch   12/13   train_loss = 0.573\n",
      "Epoch 117 Batch    9/13   train_loss = 0.608\n",
      "Epoch 118 Batch    6/13   train_loss = 0.569\n",
      "Epoch 119 Batch    3/13   train_loss = 0.586\n",
      "Epoch 120 Batch    0/13   train_loss = 0.516\n",
      "Epoch 120 Batch   10/13   train_loss = 0.534\n",
      "Epoch 121 Batch    7/13   train_loss = 0.530\n",
      "Epoch 122 Batch    4/13   train_loss = 0.554\n",
      "Epoch 123 Batch    1/13   train_loss = 0.545\n",
      "Epoch 123 Batch   11/13   train_loss = 0.528\n",
      "Epoch 124 Batch    8/13   train_loss = 0.518\n",
      "Epoch 125 Batch    5/13   train_loss = 0.522\n",
      "Epoch 126 Batch    2/13   train_loss = 0.544\n",
      "Epoch 126 Batch   12/13   train_loss = 0.486\n",
      "Epoch 127 Batch    9/13   train_loss = 0.490\n",
      "Epoch 128 Batch    6/13   train_loss = 0.477\n",
      "Epoch 129 Batch    3/13   train_loss = 0.499\n",
      "Epoch 130 Batch    0/13   train_loss = 0.461\n",
      "Epoch 130 Batch   10/13   train_loss = 0.457\n",
      "Epoch 131 Batch    7/13   train_loss = 0.459\n",
      "Epoch 132 Batch    4/13   train_loss = 0.498\n",
      "Epoch 133 Batch    1/13   train_loss = 0.489\n",
      "Epoch 133 Batch   11/13   train_loss = 0.449\n",
      "Epoch 134 Batch    8/13   train_loss = 0.448\n",
      "Epoch 135 Batch    5/13   train_loss = 0.474\n",
      "Epoch 136 Batch    2/13   train_loss = 0.469\n",
      "Epoch 136 Batch   12/13   train_loss = 0.440\n",
      "Epoch 137 Batch    9/13   train_loss = 0.456\n",
      "Epoch 138 Batch    6/13   train_loss = 0.448\n",
      "Epoch 139 Batch    3/13   train_loss = 0.461\n",
      "Epoch 140 Batch    0/13   train_loss = 0.437\n"
     ]
    },
    {
     "name": "stdout",
     "output_type": "stream",
     "text": [
      "Epoch 140 Batch   10/13   train_loss = 0.437\n",
      "Epoch 141 Batch    7/13   train_loss = 0.425\n",
      "Epoch 142 Batch    4/13   train_loss = 0.490\n",
      "Epoch 143 Batch    1/13   train_loss = 0.440\n",
      "Epoch 143 Batch   11/13   train_loss = 0.454\n",
      "Epoch 144 Batch    8/13   train_loss = 0.431\n",
      "Epoch 145 Batch    5/13   train_loss = 0.450\n",
      "Epoch 146 Batch    2/13   train_loss = 0.460\n",
      "Epoch 146 Batch   12/13   train_loss = 0.426\n",
      "Epoch 147 Batch    9/13   train_loss = 0.426\n",
      "Epoch 148 Batch    6/13   train_loss = 0.410\n",
      "Epoch 149 Batch    3/13   train_loss = 0.443\n",
      "Epoch 150 Batch    0/13   train_loss = 0.408\n",
      "Epoch 150 Batch   10/13   train_loss = 0.397\n",
      "Epoch 151 Batch    7/13   train_loss = 0.414\n",
      "Epoch 152 Batch    4/13   train_loss = 0.439\n",
      "Epoch 153 Batch    1/13   train_loss = 0.431\n",
      "Epoch 153 Batch   11/13   train_loss = 0.415\n",
      "Epoch 154 Batch    8/13   train_loss = 0.457\n",
      "Epoch 155 Batch    5/13   train_loss = 0.429\n",
      "Epoch 156 Batch    2/13   train_loss = 0.452\n",
      "Epoch 156 Batch   12/13   train_loss = 0.399\n",
      "Epoch 157 Batch    9/13   train_loss = 0.405\n",
      "Epoch 158 Batch    6/13   train_loss = 0.419\n",
      "Epoch 159 Batch    3/13   train_loss = 0.415\n",
      "Epoch 160 Batch    0/13   train_loss = 0.381\n",
      "Epoch 160 Batch   10/13   train_loss = 0.376\n",
      "Epoch 161 Batch    7/13   train_loss = 0.387\n",
      "Epoch 162 Batch    4/13   train_loss = 0.402\n",
      "Epoch 163 Batch    1/13   train_loss = 0.395\n",
      "Epoch 163 Batch   11/13   train_loss = 0.381\n",
      "Epoch 164 Batch    8/13   train_loss = 0.387\n",
      "Epoch 165 Batch    5/13   train_loss = 0.370\n",
      "Epoch 166 Batch    2/13   train_loss = 0.386\n",
      "Epoch 166 Batch   12/13   train_loss = 0.356\n",
      "Epoch 167 Batch    9/13   train_loss = 0.364\n",
      "Epoch 168 Batch    6/13   train_loss = 0.353\n",
      "Epoch 169 Batch    3/13   train_loss = 0.380\n",
      "Epoch 170 Batch    0/13   train_loss = 0.326\n",
      "Epoch 170 Batch   10/13   train_loss = 0.338\n",
      "Epoch 171 Batch    7/13   train_loss = 0.346\n",
      "Epoch 172 Batch    4/13   train_loss = 0.371\n",
      "Epoch 173 Batch    1/13   train_loss = 0.345\n",
      "Epoch 173 Batch   11/13   train_loss = 0.337\n",
      "Epoch 174 Batch    8/13   train_loss = 0.340\n",
      "Epoch 175 Batch    5/13   train_loss = 0.358\n",
      "Epoch 176 Batch    2/13   train_loss = 0.357\n",
      "Epoch 176 Batch   12/13   train_loss = 0.327\n",
      "Epoch 177 Batch    9/13   train_loss = 0.326\n",
      "Epoch 178 Batch    6/13   train_loss = 0.340\n",
      "Epoch 179 Batch    3/13   train_loss = 0.368\n",
      "Epoch 180 Batch    0/13   train_loss = 0.314\n",
      "Epoch 180 Batch   10/13   train_loss = 0.304\n",
      "Epoch 181 Batch    7/13   train_loss = 0.330\n",
      "Epoch 182 Batch    4/13   train_loss = 0.344\n",
      "Epoch 183 Batch    1/13   train_loss = 0.343\n",
      "Epoch 183 Batch   11/13   train_loss = 0.326\n",
      "Epoch 184 Batch    8/13   train_loss = 0.313\n",
      "Epoch 185 Batch    5/13   train_loss = 0.318\n",
      "Epoch 186 Batch    2/13   train_loss = 0.340\n",
      "Epoch 186 Batch   12/13   train_loss = 0.316\n",
      "Epoch 187 Batch    9/13   train_loss = 0.311\n",
      "Epoch 188 Batch    6/13   train_loss = 0.327\n",
      "Epoch 189 Batch    3/13   train_loss = 0.334\n",
      "Epoch 190 Batch    0/13   train_loss = 0.323\n",
      "Epoch 190 Batch   10/13   train_loss = 0.310\n",
      "Epoch 191 Batch    7/13   train_loss = 0.332\n",
      "Epoch 192 Batch    4/13   train_loss = 0.334\n",
      "Epoch 193 Batch    1/13   train_loss = 0.326\n",
      "Epoch 193 Batch   11/13   train_loss = 0.310\n",
      "Epoch 194 Batch    8/13   train_loss = 0.313\n",
      "Epoch 195 Batch    5/13   train_loss = 0.324\n",
      "Epoch 196 Batch    2/13   train_loss = 0.325\n",
      "Epoch 196 Batch   12/13   train_loss = 0.307\n",
      "Epoch 197 Batch    9/13   train_loss = 0.331\n",
      "Epoch 198 Batch    6/13   train_loss = 0.324\n",
      "Epoch 199 Batch    3/13   train_loss = 0.321\n",
      "Model Trained and Saved\n"
     ]
    }
   ],
   "source": [
    "\"\"\"\n",
    "DON'T MODIFY ANYTHING IN THIS CELL\n",
    "\"\"\"\n",
    "batches = get_batches(int_text, batch_size, seq_length)\n",
    "\n",
    "with tf.Session(graph=train_graph) as sess:\n",
    "    sess.run(tf.global_variables_initializer())\n",
    "\n",
    "    for epoch_i in range(num_epochs):\n",
    "        state = sess.run(initial_state, {input_text: batches[0][0]})\n",
    "\n",
    "        for batch_i, (x, y) in enumerate(batches):\n",
    "            feed = {\n",
    "                input_text: x,\n",
    "                targets: y,\n",
    "                initial_state: state,\n",
    "                lr: learning_rate}\n",
    "            train_loss, state, _ = sess.run([cost, final_state, train_op], feed)\n",
    "\n",
    "            # Show every <show_every_n_batches> batches\n",
    "            if (epoch_i * len(batches) + batch_i) % show_every_n_batches == 0:\n",
    "                print('Epoch {:>3} Batch {:>4}/{}   train_loss = {:.3f}'.format(\n",
    "                    epoch_i,\n",
    "                    batch_i,\n",
    "                    len(batches),\n",
    "                    train_loss))\n",
    "\n",
    "    # Save Model\n",
    "    saver = tf.train.Saver()\n",
    "    saver.save(sess, save_dir)\n",
    "    print('Model Trained and Saved')"
   ]
  },
  {
   "cell_type": "markdown",
   "metadata": {},
   "source": [
    "## Save Parameters\n",
    "Save `seq_length` and `save_dir` for generating a new TV script."
   ]
  },
  {
   "cell_type": "code",
   "execution_count": 20,
   "metadata": {},
   "outputs": [],
   "source": [
    "\"\"\"\n",
    "DON'T MODIFY ANYTHING IN THIS CELL\n",
    "\"\"\"\n",
    "# Save parameters for checkpoint\n",
    "helper.save_params((seq_length, save_dir))"
   ]
  },
  {
   "cell_type": "markdown",
   "metadata": {},
   "source": [
    "# Checkpoint"
   ]
  },
  {
   "cell_type": "code",
   "execution_count": 21,
   "metadata": {},
   "outputs": [],
   "source": [
    "\"\"\"\n",
    "DON'T MODIFY ANYTHING IN THIS CELL\n",
    "\"\"\"\n",
    "import tensorflow as tf\n",
    "import numpy as np\n",
    "import helper\n",
    "import problem_unittests as tests\n",
    "\n",
    "_, vocab_to_int, int_to_vocab, token_dict = helper.load_preprocess()\n",
    "seq_length, load_dir = helper.load_params()"
   ]
  },
  {
   "cell_type": "markdown",
   "metadata": {},
   "source": [
    "## Implement Generate Functions\n",
    "### Get Tensors\n",
    "Get tensors from `loaded_graph` using the function [`get_tensor_by_name()`](https://www.tensorflow.org/api_docs/python/tf/Graph#get_tensor_by_name).  Get the tensors using the following names:\n",
    "- \"input:0\"\n",
    "- \"initial_state:0\"\n",
    "- \"final_state:0\"\n",
    "- \"probs:0\"\n",
    "\n",
    "Return the tensors in the following tuple `(InputTensor, InitialStateTensor, FinalStateTensor, ProbsTensor)` "
   ]
  },
  {
   "cell_type": "code",
   "execution_count": 22,
   "metadata": {},
   "outputs": [
    {
     "name": "stdout",
     "output_type": "stream",
     "text": [
      "Tests Passed\n"
     ]
    }
   ],
   "source": [
    "def get_tensors(loaded_graph):\n",
    "    \"\"\"\n",
    "    Get input, initial state, final state, and probabilities tensor from <loaded_graph>\n",
    "    :param loaded_graph: TensorFlow graph loaded from file\n",
    "    :return: Tuple (InputTensor, InitialStateTensor, FinalStateTensor, ProbsTensor)\n",
    "    \"\"\"\n",
    "    # TODO: Implement Function\n",
    "    InputTensor = loaded_graph.get_tensor_by_name('input:0')\n",
    "    InitialStateTensor = loaded_graph.get_tensor_by_name('initial_state:0')\n",
    "    FinalStateTensor = loaded_graph.get_tensor_by_name('final_state:0')\n",
    "    ProbsTensor = loaded_graph.get_tensor_by_name('probs:0')\n",
    "    \n",
    "    return InputTensor, InitialStateTensor, FinalStateTensor, ProbsTensor\n",
    "\n",
    "\n",
    "\"\"\"\n",
    "DON'T MODIFY ANYTHING IN THIS CELL THAT IS BELOW THIS LINE\n",
    "\"\"\"\n",
    "tests.test_get_tensors(get_tensors)"
   ]
  },
  {
   "cell_type": "markdown",
   "metadata": {},
   "source": [
    "### Choose Word\n",
    "Implement the `pick_word()` function to select the next word using `probabilities`."
   ]
  },
  {
   "cell_type": "code",
   "execution_count": 23,
   "metadata": {},
   "outputs": [
    {
     "name": "stdout",
     "output_type": "stream",
     "text": [
      "Tests Passed\n"
     ]
    }
   ],
   "source": [
    "def pick_word(probabilities, int_to_vocab):\n",
    "    \"\"\"\n",
    "    Pick the next word in the generated text\n",
    "    :param probabilities: Probabilites of the next word\n",
    "    :param int_to_vocab: Dictionary of word ids as the keys and words as the values\n",
    "    :return: String of the predicted word\n",
    "    \"\"\"\n",
    "    # TODO: Implement Function\n",
    "    # greedy search: may result in the network \"getting stuck\" and picking the same word over and over\n",
    "    # idx_max_prob = np.argmax(probabilities)\n",
    "    # word_predict = int_to_vocab[idx_max_prob]\n",
    "    \n",
    "    top_n = 5  # number of the next word with highest probabilities\n",
    "    probabilities[np.argsort(probabilities)[:-top_n]] = 0  # suppress small probabilities to zeros\n",
    "    probabilities = probabilities / np.sum(probabilities)  # normalize the remaining large probabilities\n",
    "    idx_max_prob_random = np.random.choice(len(int_to_vocab), 1, p=probabilities)[0]  # generates a random sample index from range(len(int_to_vocab)) with probabilities\n",
    "    word_predict = int_to_vocab[idx_max_prob_random]\n",
    "    \n",
    "    return word_predict\n",
    "\n",
    "\n",
    "\"\"\"\n",
    "DON'T MODIFY ANYTHING IN THIS CELL THAT IS BELOW THIS LINE\n",
    "\"\"\"\n",
    "tests.test_pick_word(pick_word)"
   ]
  },
  {
   "cell_type": "markdown",
   "metadata": {},
   "source": [
    "## Generate TV Script\n",
    "This will generate the TV script for you.  Set `gen_length` to the length of TV script you want to generate."
   ]
  },
  {
   "cell_type": "code",
   "execution_count": 24,
   "metadata": {},
   "outputs": [
    {
     "name": "stdout",
     "output_type": "stream",
     "text": [
      "INFO:tensorflow:Restoring parameters from ./save\n",
      "moe_szyslak: a matter, homer?\n",
      "moe_szyslak:(shocked) listen too... how i--\n",
      "homer_simpson:(noticing tap) eggshell?\n",
      "bar_rag:(chuckles) and so i got a time.\n",
      "moe_szyslak: hey, how it is about me. this thing comin' with i don't want that or and i need an intervention.\n",
      "carl_carlson: yeah, this thing would be so reads to make their problem. oh... a thought or too much. maybe it's like that.\n",
      "homer_simpson: hey, what's a say for by that didn't should be their later!\n",
      "moe_szyslak: yeah, how are you get back to see.\n",
      "carl_carlson: hey, ah, no. this was the guy off the fan box.\n",
      "moe_szyslak: it's too... no barney_gumble: nah, i was just any hands of me...\n",
      "\n",
      "\n",
      "homer_simpson: hey, hey, can the little guy, you... what can i have to\" kid all?\n",
      "carl_carlson: uh, i'll let a use up to tell you been ladies with now. and i foolin'?\n",
      "\n",
      "\n",
      "moe_szyslak: shut up.\n",
      "\n",
      "\n",
      "homer_simpson: hey moe, you! somebody outta your money, guess i could...(nods) i got to have out of a job. he's was me for.\n",
      "lenny_leonard: i need out down?\n",
      "homer_simpson:(to homer) are you keep our hands into ya in here.\n",
      "moe_szyslak: get him!\n",
      "moe_szyslak:(sheepish) wait? my guy had a dog.\n",
      "lenny_leonard: hey moe, you! sorry. you called the stalwart price left, diamond.(flips through) i'm watching my ass!\n",
      "carl_carlson: hey, a great smithers!\n",
      "\n",
      "\n",
      "u2: the sanitation, i have to tell 'em on the see. but i know how to bring me a little.\n",
      "moe_szyslak: yeah, yeah, but i should know. i got a peace who'll no that's other.\n",
      "\n",
      "\n",
      "homer_simpson: and ask you, people!(tough dog)\n",
      "moe_szyslak:(impressed) what will be so good with you.\n",
      "lenny_leonard: uh, if it isn't little bart. and now but i'm not sure smell the day.\"\n",
      "moe_szyslak: hey, hey, but i don't know. the guy we did.\n",
      "lenny_leonard: say, as you mean? i never seen you could hospital\n",
      "\n",
      "homer_simpson: hey, homer.\n",
      "homer_simpson:(to skinner) how am i could do for throw?\n",
      "lenny_leonard: hey moe, i'm sorry. when they mix?\n",
      "homer_simpson:(computer accent) i'll be all all every.(laughs)\n",
      "homer_simpson:\n"
     ]
    }
   ],
   "source": [
    "gen_length = 500\n",
    "# homer_simpson, moe_szyslak, or Barney_Gumble\n",
    "prime_word = 'moe_szyslak'\n",
    "\n",
    "\"\"\"\n",
    "DON'T MODIFY ANYTHING IN THIS CELL THAT IS BELOW THIS LINE\n",
    "\"\"\"\n",
    "loaded_graph = tf.Graph()\n",
    "with tf.Session(graph=loaded_graph) as sess:\n",
    "    # Load saved model\n",
    "    loader = tf.train.import_meta_graph(load_dir + '.meta')\n",
    "    loader.restore(sess, load_dir)\n",
    "\n",
    "    # Get Tensors from loaded model\n",
    "    input_text, initial_state, final_state, probs = get_tensors(loaded_graph)\n",
    "\n",
    "    # Sentences generation setup\n",
    "    gen_sentences = [prime_word + ':']\n",
    "    prev_state = sess.run(initial_state, {input_text: np.array([[1]])})\n",
    "\n",
    "    # Generate sentences\n",
    "    for n in range(gen_length):\n",
    "        # Dynamic Input\n",
    "        dyn_input = [[vocab_to_int[word] for word in gen_sentences[-seq_length:]]]\n",
    "        dyn_seq_length = len(dyn_input[0])\n",
    "\n",
    "        # Get Prediction\n",
    "        probabilities, prev_state = sess.run(\n",
    "            [probs, final_state],\n",
    "            {input_text: dyn_input, initial_state: prev_state})\n",
    "        \n",
    "        pred_word = pick_word(probabilities[0][dyn_seq_length-1], int_to_vocab)\n",
    "\n",
    "        gen_sentences.append(pred_word)\n",
    "    \n",
    "    # Remove tokens\n",
    "    tv_script = ' '.join(gen_sentences)\n",
    "    for key, token in token_dict.items():\n",
    "        ending = ' ' if key in ['\\n', '(', '\"'] else ''\n",
    "        tv_script = tv_script.replace(' ' + token.lower(), key)\n",
    "    tv_script = tv_script.replace('\\n ', '\\n')\n",
    "    tv_script = tv_script.replace('( ', '(')\n",
    "        \n",
    "    print(tv_script)"
   ]
  },
  {
   "cell_type": "markdown",
   "metadata": {},
   "source": [
    "# The TV Script is Nonsensical\n",
    "It's ok if the TV script doesn't make any sense.  We trained on less than a megabyte of text.  In order to get good results, you'll have to use a smaller vocabulary or get more data.  Luckily there's more data!  As we mentioned in the beggining of this project, this is a subset of [another dataset](https://www.kaggle.com/wcukierski/the-simpsons-by-the-data).  We didn't have you train on all the data, because that would take too long.  However, you are free to train your neural network on all the data.  After you complete the project, of course.\n",
    "# Submitting This Project\n",
    "When submitting this project, make sure to run all the cells before saving the notebook. Save the notebook file as \"dlnd_tv_script_generation.ipynb\" and save it as a HTML file under \"File\" -> \"Download as\". Include the \"helper.py\" and \"problem_unittests.py\" files in your submission."
   ]
  }
 ],
 "metadata": {
  "kernelspec": {
   "display_name": "Python 3",
   "language": "python",
   "name": "python3"
  },
  "language_info": {
   "codemirror_mode": {
    "name": "ipython",
    "version": 3
   },
   "file_extension": ".py",
   "mimetype": "text/x-python",
   "name": "python",
   "nbconvert_exporter": "python",
   "pygments_lexer": "ipython3",
   "version": "3.6.4"
  },
  "widgets": {
   "state": {},
   "version": "1.1.2"
  }
 },
 "nbformat": 4,
 "nbformat_minor": 1
}
